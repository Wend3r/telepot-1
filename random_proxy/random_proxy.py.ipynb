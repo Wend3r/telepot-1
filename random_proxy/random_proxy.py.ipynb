{
 "cells": [
  {
   "cell_type": "code",
   "execution_count": 6,
   "metadata": {},
   "outputs": [],
   "source": [
    "import requests\n",
    "from bs4 import BeautifulSoup\n",
    "import random"
   ]
  },
  {
   "cell_type": "code",
   "execution_count": 23,
   "metadata": {},
   "outputs": [
    {
     "data": {
      "text/plain": [
       "{'https': '13.233.185.164:80'}"
      ]
     },
     "execution_count": 23,
     "metadata": {},
     "output_type": "execute_result"
    }
   ],
   "source": [
    "def get_proxy():\n",
    "    url = random.choice(['https://www.sslproxies.org/','https://free-proxy-list.net/'])\n",
    "    r = requests.get(url)\n",
    "    soup = BeautifulSoup(r.content,'lxml')\n",
    "    return {'https':random.choice(list(map(lambda x:x[0]+':'+x[1],list(zip(map(lambda x:x.text, soup.findAll('td')[::8]),map(lambda x:x.text, soup.findAll('td')[1::8]))))))}\n",
    "\n",
    "\n",
    "\n",
    "get_proxy()\n",
    "\n",
    "def proxy_request(request_type,url,data,**kwargs):\n",
    "    while 1:\n",
    "        try:\n",
    "            proxy = get_proxy()\n",
    "            r = requests.request(request_type ,url , proxies = proxy, timeout=5, **kwargs)\n",
    "            break\n",
    "        except:\n",
    "            pass\n",
    "        \n",
    "    return r\n",
    "\n"
   ]
  }
 ],
 "metadata": {
  "kernelspec": {
   "display_name": "Python 3",
   "language": "python",
   "name": "python3"
  },
  "language_info": {
   "codemirror_mode": {
    "name": "ipython",
    "version": 3
   },
   "file_extension": ".py",
   "mimetype": "text/x-python",
   "name": "python",
   "nbconvert_exporter": "python",
   "pygments_lexer": "ipython3",
   "version": "3.8.3"
  }
 },
 "nbformat": 4,
 "nbformat_minor": 4
}
